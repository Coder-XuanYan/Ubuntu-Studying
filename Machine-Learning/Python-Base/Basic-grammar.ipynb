{
 "cells": [
  {
   "cell_type": "markdown",
   "id": "4be2d7a2",
   "metadata": {},
   "source": [
    "### 条件语句"
   ]
  },
  {
   "cell_type": "code",
   "execution_count": 10,
   "id": "b735d708",
   "metadata": {},
   "outputs": [
    {
     "name": "stdout",
     "output_type": "stream",
     "text": [
      "请输入一个数值：-6\n"
     ]
    }
   ],
   "source": [
    "# 定义变量x,从用户输入中获取数值\n",
    "x = float (input(\"请输入一个数值：\"))"
   ]
  },
  {
   "cell_type": "code",
   "execution_count": 11,
   "id": "11a6559c",
   "metadata": {},
   "outputs": [],
   "source": [
    "# 定义变量abs_x,用来存放绝对值\n",
    "abs_x = x"
   ]
  },
  {
   "cell_type": "code",
   "execution_count": 12,
   "id": "63d4b5b7",
   "metadata": {},
   "outputs": [
    {
     "name": "stdout",
     "output_type": "stream",
     "text": [
      "x is negative\n",
      "该数值的绝对值为： 6.0\n"
     ]
    }
   ],
   "source": [
    "# 如果x为正数\n",
    "if x > 0:\n",
    "    print(\"x is positive\")\n",
    "    \n",
    "# 如果x为零\n",
    "elif x == 0:\n",
    "    print(\"x is zero\")\n",
    "    \n",
    "# 如果x为负数\n",
    "else:\n",
    "    print(\"x is negative\")\n",
    "    \n",
    "    #计算负数绝对值\n",
    "    abs_x = -x\n",
    "    \n",
    "print(\"该数值的绝对值为：\", abs_x)"
   ]
  },
  {
   "cell_type": "markdown",
   "id": "b67abe34",
   "metadata": {},
   "source": [
    "### 循环语句"
   ]
  },
  {
   "cell_type": "code",
   "execution_count": 13,
   "id": "831c31e0",
   "metadata": {},
   "outputs": [
    {
     "name": "stdout",
     "output_type": "stream",
     "text": [
      "P\n",
      "y\n",
      "t\n",
      "h\n",
      "o\n",
      "n\n",
      " \n",
      "3\n",
      ".\n",
      "x\n",
      " \n",
      "i\n",
      "s\n",
      " \n",
      "e\n",
      "a\n",
      "s\n",
      "y\n",
      "!\n"
     ]
    }
   ],
   "source": [
    "x_string = 'Python 3.x is easy!'\n",
    "\n",
    "# 利用for循环打印每个字符\n",
    "for i_str in x_string:\n",
    "    print(i_str)\n"
   ]
  },
  {
   "cell_type": "code",
   "execution_count": null,
   "id": "3be200f5",
   "metadata": {},
   "outputs": [],
   "source": []
  }
 ],
 "metadata": {
  "kernelspec": {
   "display_name": "Python 3 (ipykernel)",
   "language": "python",
   "name": "python3"
  },
  "language_info": {
   "codemirror_mode": {
    "name": "ipython",
    "version": 3
   },
   "file_extension": ".py",
   "mimetype": "text/x-python",
   "name": "python",
   "nbconvert_exporter": "python",
   "pygments_lexer": "ipython3",
   "version": "3.12.3"
  }
 },
 "nbformat": 4,
 "nbformat_minor": 5
}
